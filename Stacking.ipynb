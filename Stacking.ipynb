{
 "cells": [
  {
   "cell_type": "markdown",
   "id": "b652e656",
   "metadata": {},
   "source": [
    "# Stacking"
   ]
  },
  {
   "cell_type": "code",
   "execution_count": 1,
   "id": "645f8b2e",
   "metadata": {},
   "outputs": [
    {
     "name": "stdout",
     "output_type": "stream",
     "text": [
      "loading files...\n",
      "(595212, 39) (892816, 38)\n"
     ]
    }
   ],
   "source": [
    "import pandas as pd\n",
    "import numpy as np\n",
    "import xgboost as xgb\n",
    "import lightgbm as lgb\n",
    "from sklearn.model_selection import StratifiedKFold\n",
    "import gc\n",
    "\n",
    "print('loading files...')\n",
    "train = pd.read_csv('train.csv', na_values=-1) # nrows=10000\n",
    "test = pd.read_csv('test.csv', na_values=-1)\n",
    "col_to_drop = train.columns[train.columns.str.startswith('ps_calc_')]\n",
    "train = train.drop(col_to_drop, axis=1)  \n",
    "test = test.drop(col_to_drop, axis=1)  \n",
    "\n",
    "for c in train.select_dtypes(include=['float64']).columns:\n",
    "    train[c]=train[c].astype(np.float32)\n",
    "    test[c]=test[c].astype(np.float32)\n",
    "for c in train.select_dtypes(include=['int64']).columns[2:]:\n",
    "    train[c]=train[c].astype(np.int8)\n",
    "    test[c]=test[c].astype(np.int8)    \n",
    "\n",
    "print(train.shape, test.shape)"
   ]
  },
  {
   "cell_type": "code",
   "execution_count": 2,
   "id": "4976b284",
   "metadata": {},
   "outputs": [],
   "source": [
    "# custom objective function (similar to auc)\n",
    "\n",
    "def gini(y, pred):\n",
    "    g = np.asarray(np.c_[y, pred, np.arange(len(y)) ], dtype=float)\n",
    "    g = g[np.lexsort((g[:,2], -1*g[:,1]))]\n",
    "    gs = g[:,0].cumsum().sum() / g[:,0].sum()\n",
    "    gs -= (len(y) + 1) / 2.\n",
    "    return gs / len(y)\n",
    "\n",
    "def gini_xgb(pred, y):\n",
    "    y = y.get_label()\n",
    "    return 'gini', gini(y, pred) / gini(y, y)\n",
    "\n",
    "def gini_lgb(preds, dtrain):\n",
    "    y = list(dtrain.get_label())\n",
    "    score = gini(y, preds) / gini(y, y)\n",
    "    return 'gini', score, True"
   ]
  },
  {
   "cell_type": "code",
   "execution_count": 3,
   "id": "2b1b3c5b",
   "metadata": {},
   "outputs": [],
   "source": [
    "# xgb\n",
    "params = {'eta': 0.02, 'max_depth': 4,\n",
    "          'subsample': 0.9,\n",
    "          'colsample_bytree': 0.9, \n",
    "          'objective': 'binary:logistic',\n",
    "          'eval_metric': 'auc',\n",
    "          'silent': True}"
   ]
  },
  {
   "cell_type": "code",
   "execution_count": 4,
   "id": "d80a3006",
   "metadata": {},
   "outputs": [],
   "source": [
    "X = train.drop(['id', 'target'], axis=1)"
   ]
  },
  {
   "cell_type": "code",
   "execution_count": 5,
   "id": "bc730020",
   "metadata": {},
   "outputs": [],
   "source": [
    "features = X.columns"
   ]
  },
  {
   "cell_type": "code",
   "execution_count": 6,
   "id": "412dd67a",
   "metadata": {},
   "outputs": [
    {
     "data": {
      "text/plain": [
       "Index(['ps_ind_01', 'ps_ind_02_cat', 'ps_ind_03', 'ps_ind_04_cat',\n",
       "       'ps_ind_05_cat', 'ps_ind_06_bin', 'ps_ind_07_bin', 'ps_ind_08_bin',\n",
       "       'ps_ind_09_bin', 'ps_ind_10_bin', 'ps_ind_11_bin', 'ps_ind_12_bin',\n",
       "       'ps_ind_13_bin', 'ps_ind_14', 'ps_ind_15', 'ps_ind_16_bin',\n",
       "       'ps_ind_17_bin', 'ps_ind_18_bin', 'ps_reg_01', 'ps_reg_02', 'ps_reg_03',\n",
       "       'ps_car_01_cat', 'ps_car_02_cat', 'ps_car_03_cat', 'ps_car_04_cat',\n",
       "       'ps_car_05_cat', 'ps_car_06_cat', 'ps_car_07_cat', 'ps_car_08_cat',\n",
       "       'ps_car_09_cat', 'ps_car_10_cat', 'ps_car_11_cat', 'ps_car_11',\n",
       "       'ps_car_12', 'ps_car_13', 'ps_car_14', 'ps_car_15'],\n",
       "      dtype='object')"
      ]
     },
     "execution_count": 6,
     "metadata": {},
     "output_type": "execute_result"
    }
   ],
   "source": [
    "features"
   ]
  },
  {
   "cell_type": "code",
   "execution_count": 7,
   "id": "d394b76c",
   "metadata": {},
   "outputs": [],
   "source": [
    "X = X.values"
   ]
  },
  {
   "cell_type": "code",
   "execution_count": 8,
   "id": "c3604f0b",
   "metadata": {},
   "outputs": [
    {
     "data": {
      "text/plain": [
       "array([[ 2.        ,  2.        ,  5.        , ...,  0.8836789 ,\n",
       "         0.3708099 ,  3.6055512 ],\n",
       "       [ 1.        ,  1.        ,  7.        , ...,  0.6188165 ,\n",
       "         0.38871583,  2.4494898 ],\n",
       "       [ 5.        ,  4.        ,  9.        , ...,  0.6415857 ,\n",
       "         0.3472751 ,  3.3166249 ],\n",
       "       ...,\n",
       "       [ 1.        ,  1.        , 10.        , ...,  0.5963733 ,\n",
       "         0.39874804,  1.7320508 ],\n",
       "       [ 5.        ,  2.        ,  3.        , ...,  0.7644341 ,\n",
       "         0.38496754,  3.1622777 ],\n",
       "       [ 0.        ,  1.        ,  8.        , ...,  0.9326493 ,\n",
       "         0.37802115,  3.7416575 ]], dtype=float32)"
      ]
     },
     "execution_count": 8,
     "metadata": {},
     "output_type": "execute_result"
    }
   ],
   "source": [
    "X"
   ]
  },
  {
   "cell_type": "code",
   "execution_count": 9,
   "id": "1e020d74",
   "metadata": {},
   "outputs": [],
   "source": [
    "y = train['target'].values"
   ]
  },
  {
   "cell_type": "code",
   "execution_count": 10,
   "id": "a6d20a95",
   "metadata": {
    "scrolled": true
   },
   "outputs": [
    {
     "data": {
      "text/plain": [
       "array([0, 0, 0, ..., 0, 0, 0], dtype=int64)"
      ]
     },
     "execution_count": 10,
     "metadata": {},
     "output_type": "execute_result"
    }
   ],
   "source": [
    "y"
   ]
  },
  {
   "cell_type": "code",
   "execution_count": 11,
   "id": "972d56b3",
   "metadata": {},
   "outputs": [
    {
     "data": {
      "text/plain": [
       "0         0\n",
       "1         0\n",
       "2         0\n",
       "3         0\n",
       "4         0\n",
       "         ..\n",
       "595207    0\n",
       "595208    0\n",
       "595209    0\n",
       "595210    0\n",
       "595211    0\n",
       "Name: target, Length: 595212, dtype: int64"
      ]
     },
     "execution_count": 11,
     "metadata": {},
     "output_type": "execute_result"
    }
   ],
   "source": [
    "train['target']"
   ]
  },
  {
   "cell_type": "code",
   "execution_count": 12,
   "id": "053a7399",
   "metadata": {},
   "outputs": [],
   "source": [
    "sub = test['id'].to_frame()"
   ]
  },
  {
   "cell_type": "code",
   "execution_count": 13,
   "id": "9b2580e4",
   "metadata": {},
   "outputs": [
    {
     "data": {
      "text/html": [
       "<div>\n",
       "<style scoped>\n",
       "    .dataframe tbody tr th:only-of-type {\n",
       "        vertical-align: middle;\n",
       "    }\n",
       "\n",
       "    .dataframe tbody tr th {\n",
       "        vertical-align: top;\n",
       "    }\n",
       "\n",
       "    .dataframe thead th {\n",
       "        text-align: right;\n",
       "    }\n",
       "</style>\n",
       "<table border=\"1\" class=\"dataframe\">\n",
       "  <thead>\n",
       "    <tr style=\"text-align: right;\">\n",
       "      <th></th>\n",
       "      <th>id</th>\n",
       "    </tr>\n",
       "  </thead>\n",
       "  <tbody>\n",
       "    <tr>\n",
       "      <th>0</th>\n",
       "      <td>0</td>\n",
       "    </tr>\n",
       "    <tr>\n",
       "      <th>1</th>\n",
       "      <td>1</td>\n",
       "    </tr>\n",
       "    <tr>\n",
       "      <th>2</th>\n",
       "      <td>2</td>\n",
       "    </tr>\n",
       "    <tr>\n",
       "      <th>3</th>\n",
       "      <td>3</td>\n",
       "    </tr>\n",
       "    <tr>\n",
       "      <th>4</th>\n",
       "      <td>4</td>\n",
       "    </tr>\n",
       "    <tr>\n",
       "      <th>...</th>\n",
       "      <td>...</td>\n",
       "    </tr>\n",
       "    <tr>\n",
       "      <th>892811</th>\n",
       "      <td>1488022</td>\n",
       "    </tr>\n",
       "    <tr>\n",
       "      <th>892812</th>\n",
       "      <td>1488023</td>\n",
       "    </tr>\n",
       "    <tr>\n",
       "      <th>892813</th>\n",
       "      <td>1488024</td>\n",
       "    </tr>\n",
       "    <tr>\n",
       "      <th>892814</th>\n",
       "      <td>1488025</td>\n",
       "    </tr>\n",
       "    <tr>\n",
       "      <th>892815</th>\n",
       "      <td>1488026</td>\n",
       "    </tr>\n",
       "  </tbody>\n",
       "</table>\n",
       "<p>892816 rows × 1 columns</p>\n",
       "</div>"
      ],
      "text/plain": [
       "             id\n",
       "0             0\n",
       "1             1\n",
       "2             2\n",
       "3             3\n",
       "4             4\n",
       "...         ...\n",
       "892811  1488022\n",
       "892812  1488023\n",
       "892813  1488024\n",
       "892814  1488025\n",
       "892815  1488026\n",
       "\n",
       "[892816 rows x 1 columns]"
      ]
     },
     "execution_count": 13,
     "metadata": {},
     "output_type": "execute_result"
    }
   ],
   "source": [
    "sub"
   ]
  },
  {
   "cell_type": "code",
   "execution_count": 14,
   "id": "0f5d12d4",
   "metadata": {},
   "outputs": [],
   "source": [
    "sub['target'] = 0"
   ]
  },
  {
   "cell_type": "code",
   "execution_count": 15,
   "id": "f15af107",
   "metadata": {},
   "outputs": [
    {
     "data": {
      "text/html": [
       "<div>\n",
       "<style scoped>\n",
       "    .dataframe tbody tr th:only-of-type {\n",
       "        vertical-align: middle;\n",
       "    }\n",
       "\n",
       "    .dataframe tbody tr th {\n",
       "        vertical-align: top;\n",
       "    }\n",
       "\n",
       "    .dataframe thead th {\n",
       "        text-align: right;\n",
       "    }\n",
       "</style>\n",
       "<table border=\"1\" class=\"dataframe\">\n",
       "  <thead>\n",
       "    <tr style=\"text-align: right;\">\n",
       "      <th></th>\n",
       "      <th>id</th>\n",
       "      <th>target</th>\n",
       "    </tr>\n",
       "  </thead>\n",
       "  <tbody>\n",
       "    <tr>\n",
       "      <th>0</th>\n",
       "      <td>0</td>\n",
       "      <td>0</td>\n",
       "    </tr>\n",
       "    <tr>\n",
       "      <th>1</th>\n",
       "      <td>1</td>\n",
       "      <td>0</td>\n",
       "    </tr>\n",
       "    <tr>\n",
       "      <th>2</th>\n",
       "      <td>2</td>\n",
       "      <td>0</td>\n",
       "    </tr>\n",
       "    <tr>\n",
       "      <th>3</th>\n",
       "      <td>3</td>\n",
       "      <td>0</td>\n",
       "    </tr>\n",
       "    <tr>\n",
       "      <th>4</th>\n",
       "      <td>4</td>\n",
       "      <td>0</td>\n",
       "    </tr>\n",
       "    <tr>\n",
       "      <th>...</th>\n",
       "      <td>...</td>\n",
       "      <td>...</td>\n",
       "    </tr>\n",
       "    <tr>\n",
       "      <th>892811</th>\n",
       "      <td>1488022</td>\n",
       "      <td>0</td>\n",
       "    </tr>\n",
       "    <tr>\n",
       "      <th>892812</th>\n",
       "      <td>1488023</td>\n",
       "      <td>0</td>\n",
       "    </tr>\n",
       "    <tr>\n",
       "      <th>892813</th>\n",
       "      <td>1488024</td>\n",
       "      <td>0</td>\n",
       "    </tr>\n",
       "    <tr>\n",
       "      <th>892814</th>\n",
       "      <td>1488025</td>\n",
       "      <td>0</td>\n",
       "    </tr>\n",
       "    <tr>\n",
       "      <th>892815</th>\n",
       "      <td>1488026</td>\n",
       "      <td>0</td>\n",
       "    </tr>\n",
       "  </tbody>\n",
       "</table>\n",
       "<p>892816 rows × 2 columns</p>\n",
       "</div>"
      ],
      "text/plain": [
       "             id  target\n",
       "0             0       0\n",
       "1             1       0\n",
       "2             2       0\n",
       "3             3       0\n",
       "4             4       0\n",
       "...         ...     ...\n",
       "892811  1488022       0\n",
       "892812  1488023       0\n",
       "892813  1488024       0\n",
       "892814  1488025       0\n",
       "892815  1488026       0\n",
       "\n",
       "[892816 rows x 2 columns]"
      ]
     },
     "execution_count": 15,
     "metadata": {},
     "output_type": "execute_result"
    }
   ],
   "source": [
    "sub"
   ]
  },
  {
   "cell_type": "code",
   "execution_count": 16,
   "id": "e1b6928a",
   "metadata": {},
   "outputs": [],
   "source": [
    "nrounds=2000 \n",
    "kfold = 2 \n",
    "skf = StratifiedKFold(n_splits=kfold, shuffle=True, random_state=0)"
   ]
  },
  {
   "cell_type": "markdown",
   "id": "a1597e8e",
   "metadata": {},
   "source": [
    "- nrounds=200: 이 변수는 랜덤 포레스트 또는 부스팅 모델 등의 알고리즘에서 사용되는 트리의 개수를 나타내는 것으로 보입니다. nrounds는 모델이 훈련될 때 사용되는 트리의 수를 설정하는 역할을 합니다. 이 값이 크면 모델의 복잡도가 증가하게 되므로 과적합의 가능성을 고려해야 합니다.\n",
    "\n",
    "- kfold = 2: 이 변수는 교차 검증(Cross-validation)의 폴드 수를 나타냅니다. 교차 검증은 모델의 성능을 평가하거나 하이퍼파라미터를 조정하기 위해 사용되는 방법 중 하나로, 데이터를 여러 개의 폴드로 나누고 각 폴드를 순서대로 검증 데이터로 사용하여 모델을 훈련하고 평가하는 과정입니다.\n",
    "\n",
    "- skf = StratifiedKFold(n_splits=kfold, shuffle=True, random_state=0): 이 코드는 Scikit-learn의 StratifiedKFold 교차 검증 분할기를 생성하는 부분입니다.\n",
    "\n",
    "- n_splits=kfold: 교차 검증의 폴드 수를 설정합니다. 여기서는 kfold 변수에 할당된 값인 2를 사용하여 2개의 폴드로 데이터를 나누겠다는 것을 나타냅니다.\n",
    "- shuffle=True: 데이터를 섞어서 분할할지 여부를 설정합니다. True로 설정하면 데이터를 섞어서 분할합니다.\n",
    "- random_state=0: 난수 생성 시 사용되는 시드 값을 설정합니다. 이를 통해 같은 시드 값을 사용하면 동일한 랜덤 시퀀스가 생성되어 재현 가능한 결과를 얻을 수 있습니다.\n",
    "-  이렇게 설정된 StratifiedKFold 분할기는 데이터를 교차 검증을 위해 설정한 폴드 수대로 나누고, 섞은 후에 폴드별로 모델을 훈련하고 검증하는데 사용될 것입니다.\n",
    "\n",
    "\n",
    "\n",
    "\n"
   ]
  },
  {
   "cell_type": "code",
   "execution_count": 17,
   "id": "77b5bcf3",
   "metadata": {},
   "outputs": [],
   "source": [
    "for i, (train_index, valid_index) in enumerate(skf.split(X, y)):\n",
    "    break"
   ]
  },
  {
   "cell_type": "code",
   "execution_count": 18,
   "id": "81159520",
   "metadata": {},
   "outputs": [
    {
     "data": {
      "text/plain": [
       "array([     0,      3,      4, ..., 595207, 595210, 595211])"
      ]
     },
     "execution_count": 18,
     "metadata": {},
     "output_type": "execute_result"
    }
   ],
   "source": [
    "train_index"
   ]
  },
  {
   "cell_type": "code",
   "execution_count": 19,
   "id": "5cf96445",
   "metadata": {},
   "outputs": [
    {
     "data": {
      "text/plain": [
       "array([     1,      2,      8, ..., 595205, 595208, 595209])"
      ]
     },
     "execution_count": 19,
     "metadata": {},
     "output_type": "execute_result"
    }
   ],
   "source": [
    "valid_index"
   ]
  },
  {
   "cell_type": "code",
   "execution_count": 20,
   "id": "58be3c80",
   "metadata": {},
   "outputs": [
    {
     "data": {
      "text/plain": [
       "0.036447517859182946"
      ]
     },
     "execution_count": 20,
     "metadata": {},
     "output_type": "execute_result"
    }
   ],
   "source": [
    "y.mean()"
   ]
  },
  {
   "cell_type": "code",
   "execution_count": 21,
   "id": "31812bca",
   "metadata": {},
   "outputs": [
    {
     "data": {
      "text/plain": [
       "0.036447517859182946"
      ]
     },
     "execution_count": 21,
     "metadata": {},
     "output_type": "execute_result"
    }
   ],
   "source": [
    "y[train_index].mean()"
   ]
  },
  {
   "cell_type": "code",
   "execution_count": 22,
   "id": "961d9128",
   "metadata": {},
   "outputs": [],
   "source": [
    "X_train, X_valid = X[train_index], X[valid_index]"
   ]
  },
  {
   "cell_type": "code",
   "execution_count": 23,
   "id": "44a357fa",
   "metadata": {},
   "outputs": [],
   "source": [
    "y_train, y_valid = y[train_index], y[valid_index]"
   ]
  },
  {
   "cell_type": "code",
   "execution_count": 24,
   "id": "916bda31",
   "metadata": {},
   "outputs": [
    {
     "data": {
      "text/plain": [
       "array([[ 2.        ,  2.        ,  5.        , ...,  0.8836789 ,\n",
       "         0.3708099 ,  3.6055512 ],\n",
       "       [ 0.        ,  1.        ,  2.        , ...,  0.5429488 ,\n",
       "         0.29495764,  2.        ],\n",
       "       [ 0.        ,  2.        ,  0.        , ...,  0.5658315 ,\n",
       "         0.36510274,  2.        ],\n",
       "       ...,\n",
       "       [ 3.        ,  1.        , 10.        , ...,  0.6846306 ,\n",
       "         0.3854867 ,  2.6457512 ],\n",
       "       [ 5.        ,  2.        ,  3.        , ...,  0.7644341 ,\n",
       "         0.38496754,  3.1622777 ],\n",
       "       [ 0.        ,  1.        ,  8.        , ...,  0.9326493 ,\n",
       "         0.37802115,  3.7416575 ]], dtype=float32)"
      ]
     },
     "execution_count": 24,
     "metadata": {},
     "output_type": "execute_result"
    }
   ],
   "source": [
    "X_train"
   ]
  },
  {
   "cell_type": "code",
   "execution_count": 25,
   "id": "4de548e4",
   "metadata": {},
   "outputs": [
    {
     "data": {
      "text/plain": [
       "array([0, 0, 0, ..., 0, 0, 0], dtype=int64)"
      ]
     },
     "execution_count": 25,
     "metadata": {},
     "output_type": "execute_result"
    }
   ],
   "source": [
    "y_train"
   ]
  },
  {
   "cell_type": "code",
   "execution_count": 26,
   "id": "3cf451c6",
   "metadata": {},
   "outputs": [],
   "source": [
    "d_train = xgb.DMatrix(X_train, y_train) \n",
    "d_valid = xgb.DMatrix(X_valid, y_valid) "
   ]
  },
  {
   "cell_type": "markdown",
   "id": "c8c9f5f8",
   "metadata": {},
   "source": [
    "- XGBoost에서 사용되는 데이터 형식인 DMatrix로 데이터를 변환하는 부분입니다. XGBoost 모델을 학습하기 위해서는 데이터를 DMatrix 형태로 변환해야 합니다. 이를 통해 XGBoost 내부에서 최적화된 데이터 구조를 사용하여 효율적인 학습과 예측을 할 수 있습니다.\n",
    "\n",
    "- d_train = xgb.DMatrix(X_train, y_train): DMatrix를 생성하는데, 여기서 X_train은 훈련 데이터의 입력 특성(features)이고 y_train은 해당 데이터의 타겟 변수(target)입니다. 즉, X_train과 y_train을 훈련 데이터로 사용하여 DMatrix를 생성합니다. 이 데이터 형식은 XGBoost 내부의 알고리즘이 최적화된 방식으로 데이터를 처리할 수 있도록 돕습니다.\n",
    "\n",
    "- d_valid = xgb.DMatrix(X_valid, y_valid): 마찬가지로 검증 데이터인 X_valid와 y_valid를 사용하여 검증용 DMatrix를 생성합니다. 이 데이터 형식은 모델을 학습할 때와 예측할 때 모두 필요합니다.\n",
    "\n",
    "- DMatrix는 XGBoost 모델을 사용하기 위한 특별한 데이터 객체로, 더욱 효율적인 메모리 사용과 빠른 계산을 위해 설계되었습니다. 이를 통해 XGBoost 모델이 데이터를 더 빠르게 처리하고 복잡한 피처 엔지니어링을 수행할 수 있게 됩니다."
   ]
  },
  {
   "cell_type": "code",
   "execution_count": 27,
   "id": "5e31f0b6",
   "metadata": {},
   "outputs": [],
   "source": [
    "watchlist = [(d_train, 'train'), (d_valid, 'valid')]\n",
    "#  모델의 성능을 모니터링 : 여기서는 roc_auc 를 보다가..."
   ]
  },
  {
   "cell_type": "markdown",
   "id": "cd34c7f3",
   "metadata": {},
   "source": [
    "- XGBoost 모델을 훈련하는 부분\n",
    "- eta: 0.02: 학습 속도를 나타내는 하이퍼파라미터로, 각 트리의 가중치 갱신에 적용되는 값입니다. 작은 값이면 학습이 더 안정적으로 수행될 수 있지만 수렴하는데 더 많은 시간이 걸릴 수 있습니다.\n",
    "\n",
    "- max_depth: 4: 각 트리의 최대 깊이를 제한하는 하이퍼파라미터입니다. 과적합을 피하기 위해 트리의 깊이를 제한할 수 있습니다.\n",
    "\n",
    "- subsample: 0.9: 각 트리마다 사용되는 훈련 데이터의 일부를 무작위로 선택하는 비율입니다. 1보다 작은 값이면 샘플링이 수행되어 모델의 변동성을 줄일 수 있습니다.\n",
    "\n",
    "- colsample_bytree: 0.9: 각 트리마다 사용되는 피처의 일부를 무작위로 선택하는 비율입니다. 이는 모델이 피처 간의 상관 관계를 다루는 데 도움을 줄 수 있습니다.\n",
    "\n",
    "- objective: 'binary:logistic': 모델의 목적 함수로, 이진 분류 문제를 다루는 로지스틱 손실 함수를 사용하고 있음을 나타냅니다.\n",
    "\n",
    "- eval_metric: 'auc': 모델의 평가 지표로, AUC (Area Under the Curve) 값을 사용하고 있음을 나타냅니다.\n",
    "\n",
    "- d_train: XGBoost의 DMatrix 형식의 학습 데이터입니다.\n",
    "\n",
    "- nrounds: 트리의 개수로, 반복 횟수를 설정합니다.\n",
    "\n",
    "- evals=watchlist: 검증 데이터셋을 나타내며, 모델의 성능 평가를 위해 사용됩니다.\n",
    "\n",
    "- early_stopping_rounds=100: 조기 중단을 수행하는 데 사용되는 값으로, 검증 데이터의 성능이 더 이상 향상되지 않을 때 훈련을 중지합니다.\n",
    "\n",
    "- custom_metric=gini_xgb: 사용자 정의 메트릭 함수인 gini_xgb를 사용하여 모델을 평가합니다.\n",
    "\n",
    "- maximize=True: 최대화 문제로 모델을 훈련하는 것을 나타냅니다.\n",
    "\n",
    "- verbose_eval=10: 훈련 과정 중에 얼마나 자주 로그를 출력할지 설정합니다. 값이 클수록 더 자주 출력됩니다.\n",
    "\n",
    "- 이렇게 설정된 매개변수와 옵션을 기반으로 XGBoost 모델이 훈련되며, 지정된 트리 개수 및 조기 중단 조건에 따라 최적의 모델이 선택될 것입니다."
   ]
  },
  {
   "cell_type": "code",
   "execution_count": null,
   "id": "47bd039d",
   "metadata": {},
   "outputs": [],
   "source": [
    "params = {'eta': 0.02, 'max_depth': 4,\n",
    "          'subsample': 0.9,\n",
    "          'colsample_bytree': 0.9, \n",
    "          'objective': 'binary:logistic',\n",
    "          'eval_metric': 'auc',\n",
    "          'silent': True}"
   ]
  },
  {
   "cell_type": "code",
   "execution_count": 28,
   "id": "8c5f23cb",
   "metadata": {
    "scrolled": false
   },
   "outputs": [
    {
     "name": "stdout",
     "output_type": "stream",
     "text": [
      "[13:04:34] WARNING: C:\\buildkite-agent\\builds\\buildkite-windows-cpu-autoscaling-group-i-0fdc6d574b9c0d168-1\\xgboost\\xgboost-ci-windows\\src\\learner.cc:767: \n",
      "Parameters: { \"silent\" } are not used.\n",
      "\n",
      "[0]\ttrain-auc:0.59974\ttrain-gini:0.19795\tvalid-auc:0.59548\tvalid-gini:0.19166\n",
      "[10]\ttrain-auc:0.61712\ttrain-gini:0.23422\tvalid-auc:0.61177\tvalid-gini:0.22349\n",
      "[20]\ttrain-auc:0.61992\ttrain-gini:0.23979\tvalid-auc:0.61424\tvalid-gini:0.22849\n",
      "[30]\ttrain-auc:0.62237\ttrain-gini:0.24474\tvalid-auc:0.61620\tvalid-gini:0.23239\n",
      "[40]\ttrain-auc:0.62316\ttrain-gini:0.24632\tvalid-auc:0.61666\tvalid-gini:0.23331\n",
      "[50]\ttrain-auc:0.62358\ttrain-gini:0.24715\tvalid-auc:0.61690\tvalid-gini:0.23380\n",
      "[60]\ttrain-auc:0.62379\ttrain-gini:0.24758\tvalid-auc:0.61692\tvalid-gini:0.23383\n",
      "[70]\ttrain-auc:0.62403\ttrain-gini:0.24805\tvalid-auc:0.61716\tvalid-gini:0.23433\n",
      "[80]\ttrain-auc:0.62456\ttrain-gini:0.24912\tvalid-auc:0.61744\tvalid-gini:0.23489\n",
      "[90]\ttrain-auc:0.62551\ttrain-gini:0.25102\tvalid-auc:0.61825\tvalid-gini:0.23651\n",
      "[100]\ttrain-auc:0.62641\ttrain-gini:0.25281\tvalid-auc:0.61892\tvalid-gini:0.23784\n",
      "[110]\ttrain-auc:0.62698\ttrain-gini:0.25395\tvalid-auc:0.61973\tvalid-gini:0.23945\n",
      "[120]\ttrain-auc:0.62832\ttrain-gini:0.25665\tvalid-auc:0.62061\tvalid-gini:0.24123\n",
      "[130]\ttrain-auc:0.63060\ttrain-gini:0.26120\tvalid-auc:0.62201\tvalid-gini:0.24402\n",
      "[140]\ttrain-auc:0.63226\ttrain-gini:0.26452\tvalid-auc:0.62320\tvalid-gini:0.24640\n",
      "[150]\ttrain-auc:0.63416\ttrain-gini:0.26833\tvalid-auc:0.62442\tvalid-gini:0.24884\n",
      "[160]\ttrain-auc:0.63594\ttrain-gini:0.27188\tvalid-auc:0.62542\tvalid-gini:0.25085\n",
      "[170]\ttrain-auc:0.63788\ttrain-gini:0.27575\tvalid-auc:0.62667\tvalid-gini:0.25334\n",
      "[180]\ttrain-auc:0.63941\ttrain-gini:0.27881\tvalid-auc:0.62746\tvalid-gini:0.25491\n",
      "[190]\ttrain-auc:0.64087\ttrain-gini:0.28175\tvalid-auc:0.62834\tvalid-gini:0.25668\n",
      "[200]\ttrain-auc:0.64244\ttrain-gini:0.28489\tvalid-auc:0.62926\tvalid-gini:0.25852\n",
      "[210]\ttrain-auc:0.64380\ttrain-gini:0.28759\tvalid-auc:0.62995\tvalid-gini:0.25990\n",
      "[220]\ttrain-auc:0.64487\ttrain-gini:0.28975\tvalid-auc:0.63070\tvalid-gini:0.26139\n",
      "[230]\ttrain-auc:0.64645\ttrain-gini:0.29290\tvalid-auc:0.63152\tvalid-gini:0.26304\n",
      "[240]\ttrain-auc:0.64752\ttrain-gini:0.29504\tvalid-auc:0.63200\tvalid-gini:0.26399\n",
      "[250]\ttrain-auc:0.64875\ttrain-gini:0.29751\tvalid-auc:0.63268\tvalid-gini:0.26537\n",
      "[260]\ttrain-auc:0.64984\ttrain-gini:0.29969\tvalid-auc:0.63310\tvalid-gini:0.26621\n",
      "[270]\ttrain-auc:0.65110\ttrain-gini:0.30221\tvalid-auc:0.63376\tvalid-gini:0.26752\n",
      "[280]\ttrain-auc:0.65208\ttrain-gini:0.30415\tvalid-auc:0.63415\tvalid-gini:0.26829\n",
      "[290]\ttrain-auc:0.65308\ttrain-gini:0.30617\tvalid-auc:0.63444\tvalid-gini:0.26888\n",
      "[300]\ttrain-auc:0.65424\ttrain-gini:0.30849\tvalid-auc:0.63485\tvalid-gini:0.26969\n",
      "[310]\ttrain-auc:0.65534\ttrain-gini:0.31068\tvalid-auc:0.63528\tvalid-gini:0.27057\n",
      "[320]\ttrain-auc:0.65631\ttrain-gini:0.31261\tvalid-auc:0.63560\tvalid-gini:0.27120\n",
      "[330]\ttrain-auc:0.65720\ttrain-gini:0.31441\tvalid-auc:0.63602\tvalid-gini:0.27205\n",
      "[340]\ttrain-auc:0.65823\ttrain-gini:0.31646\tvalid-auc:0.63648\tvalid-gini:0.27295\n",
      "[350]\ttrain-auc:0.65914\ttrain-gini:0.31829\tvalid-auc:0.63673\tvalid-gini:0.27346\n",
      "[360]\ttrain-auc:0.66006\ttrain-gini:0.32012\tvalid-auc:0.63716\tvalid-gini:0.27432\n",
      "[370]\ttrain-auc:0.66101\ttrain-gini:0.32201\tvalid-auc:0.63752\tvalid-gini:0.27505\n",
      "[380]\ttrain-auc:0.66177\ttrain-gini:0.32353\tvalid-auc:0.63777\tvalid-gini:0.27554\n",
      "[390]\ttrain-auc:0.66250\ttrain-gini:0.32500\tvalid-auc:0.63790\tvalid-gini:0.27580\n",
      "[400]\ttrain-auc:0.66325\ttrain-gini:0.32650\tvalid-auc:0.63808\tvalid-gini:0.27616\n",
      "[410]\ttrain-auc:0.66398\ttrain-gini:0.32797\tvalid-auc:0.63828\tvalid-gini:0.27656\n",
      "[420]\ttrain-auc:0.66472\ttrain-gini:0.32943\tvalid-auc:0.63839\tvalid-gini:0.27677\n",
      "[430]\ttrain-auc:0.66537\ttrain-gini:0.33075\tvalid-auc:0.63846\tvalid-gini:0.27692\n",
      "[440]\ttrain-auc:0.66590\ttrain-gini:0.33179\tvalid-auc:0.63857\tvalid-gini:0.27713\n",
      "[450]\ttrain-auc:0.66653\ttrain-gini:0.33305\tvalid-auc:0.63872\tvalid-gini:0.27744\n",
      "[460]\ttrain-auc:0.66730\ttrain-gini:0.33461\tvalid-auc:0.63886\tvalid-gini:0.27772\n",
      "[470]\ttrain-auc:0.66800\ttrain-gini:0.33601\tvalid-auc:0.63897\tvalid-gini:0.27794\n",
      "[480]\ttrain-auc:0.66863\ttrain-gini:0.33726\tvalid-auc:0.63907\tvalid-gini:0.27815\n",
      "[490]\ttrain-auc:0.66929\ttrain-gini:0.33858\tvalid-auc:0.63921\tvalid-gini:0.27842\n",
      "[500]\ttrain-auc:0.66976\ttrain-gini:0.33953\tvalid-auc:0.63931\tvalid-gini:0.27863\n",
      "[510]\ttrain-auc:0.67042\ttrain-gini:0.34085\tvalid-auc:0.63938\tvalid-gini:0.27876\n",
      "[520]\ttrain-auc:0.67108\ttrain-gini:0.34215\tvalid-auc:0.63943\tvalid-gini:0.27886\n",
      "[530]\ttrain-auc:0.67159\ttrain-gini:0.34318\tvalid-auc:0.63953\tvalid-gini:0.27906\n",
      "[540]\ttrain-auc:0.67223\ttrain-gini:0.34446\tvalid-auc:0.63958\tvalid-gini:0.27916\n",
      "[550]\ttrain-auc:0.67282\ttrain-gini:0.34565\tvalid-auc:0.63958\tvalid-gini:0.27915\n",
      "[560]\ttrain-auc:0.67341\ttrain-gini:0.34682\tvalid-auc:0.63969\tvalid-gini:0.27937\n",
      "[570]\ttrain-auc:0.67401\ttrain-gini:0.34802\tvalid-auc:0.63975\tvalid-gini:0.27950\n",
      "[580]\ttrain-auc:0.67440\ttrain-gini:0.34880\tvalid-auc:0.63971\tvalid-gini:0.27941\n",
      "[590]\ttrain-auc:0.67503\ttrain-gini:0.35006\tvalid-auc:0.63981\tvalid-gini:0.27962\n",
      "[600]\ttrain-auc:0.67561\ttrain-gini:0.35122\tvalid-auc:0.63991\tvalid-gini:0.27983\n",
      "[610]\ttrain-auc:0.67613\ttrain-gini:0.35225\tvalid-auc:0.63999\tvalid-gini:0.27998\n",
      "[620]\ttrain-auc:0.67670\ttrain-gini:0.35340\tvalid-auc:0.64009\tvalid-gini:0.28019\n",
      "[630]\ttrain-auc:0.67717\ttrain-gini:0.35433\tvalid-auc:0.64012\tvalid-gini:0.28025\n",
      "[640]\ttrain-auc:0.67758\ttrain-gini:0.35517\tvalid-auc:0.64014\tvalid-gini:0.28028\n",
      "[650]\ttrain-auc:0.67810\ttrain-gini:0.35621\tvalid-auc:0.64018\tvalid-gini:0.28036\n",
      "[660]\ttrain-auc:0.67868\ttrain-gini:0.35736\tvalid-auc:0.64027\tvalid-gini:0.28054\n",
      "[670]\ttrain-auc:0.67917\ttrain-gini:0.35835\tvalid-auc:0.64030\tvalid-gini:0.28059\n",
      "[680]\ttrain-auc:0.67968\ttrain-gini:0.35936\tvalid-auc:0.64030\tvalid-gini:0.28060\n",
      "[690]\ttrain-auc:0.68018\ttrain-gini:0.36035\tvalid-auc:0.64028\tvalid-gini:0.28056\n",
      "[700]\ttrain-auc:0.68074\ttrain-gini:0.36147\tvalid-auc:0.64029\tvalid-gini:0.28058\n",
      "[710]\ttrain-auc:0.68121\ttrain-gini:0.36243\tvalid-auc:0.64031\tvalid-gini:0.28062\n",
      "[720]\ttrain-auc:0.68186\ttrain-gini:0.36373\tvalid-auc:0.64029\tvalid-gini:0.28058\n",
      "[730]\ttrain-auc:0.68233\ttrain-gini:0.36466\tvalid-auc:0.64025\tvalid-gini:0.28049\n",
      "[740]\ttrain-auc:0.68283\ttrain-gini:0.36566\tvalid-auc:0.64025\tvalid-gini:0.28050\n",
      "[750]\ttrain-auc:0.68316\ttrain-gini:0.36631\tvalid-auc:0.64029\tvalid-gini:0.28058\n",
      "[760]\ttrain-auc:0.68364\ttrain-gini:0.36728\tvalid-auc:0.64035\tvalid-gini:0.28070\n",
      "[770]\ttrain-auc:0.68406\ttrain-gini:0.36811\tvalid-auc:0.64038\tvalid-gini:0.28076\n",
      "[780]\ttrain-auc:0.68454\ttrain-gini:0.36908\tvalid-auc:0.64039\tvalid-gini:0.28079\n",
      "[790]\ttrain-auc:0.68517\ttrain-gini:0.37035\tvalid-auc:0.64034\tvalid-gini:0.28069\n",
      "[800]\ttrain-auc:0.68572\ttrain-gini:0.37144\tvalid-auc:0.64034\tvalid-gini:0.28068\n",
      "[810]\ttrain-auc:0.68612\ttrain-gini:0.37224\tvalid-auc:0.64036\tvalid-gini:0.28073\n",
      "[820]\ttrain-auc:0.68656\ttrain-gini:0.37311\tvalid-auc:0.64046\tvalid-gini:0.28092\n",
      "[830]\ttrain-auc:0.68705\ttrain-gini:0.37410\tvalid-auc:0.64049\tvalid-gini:0.28098\n",
      "[840]\ttrain-auc:0.68758\ttrain-gini:0.37515\tvalid-auc:0.64047\tvalid-gini:0.28094\n",
      "[850]\ttrain-auc:0.68799\ttrain-gini:0.37599\tvalid-auc:0.64048\tvalid-gini:0.28096\n",
      "[860]\ttrain-auc:0.68849\ttrain-gini:0.37699\tvalid-auc:0.64051\tvalid-gini:0.28102\n",
      "[870]\ttrain-auc:0.68880\ttrain-gini:0.37760\tvalid-auc:0.64050\tvalid-gini:0.28100\n",
      "[880]\ttrain-auc:0.68929\ttrain-gini:0.37857\tvalid-auc:0.64046\tvalid-gini:0.28091\n",
      "[890]\ttrain-auc:0.68978\ttrain-gini:0.37957\tvalid-auc:0.64043\tvalid-gini:0.28086\n",
      "[900]\ttrain-auc:0.69017\ttrain-gini:0.38033\tvalid-auc:0.64043\tvalid-gini:0.28085\n",
      "[910]\ttrain-auc:0.69062\ttrain-gini:0.38124\tvalid-auc:0.64044\tvalid-gini:0.28087\n",
      "[920]\ttrain-auc:0.69107\ttrain-gini:0.38213\tvalid-auc:0.64041\tvalid-gini:0.28082\n",
      "[930]\ttrain-auc:0.69166\ttrain-gini:0.38331\tvalid-auc:0.64037\tvalid-gini:0.28073\n",
      "[940]\ttrain-auc:0.69208\ttrain-gini:0.38416\tvalid-auc:0.64041\tvalid-gini:0.28081\n",
      "[950]\ttrain-auc:0.69256\ttrain-gini:0.38513\tvalid-auc:0.64039\tvalid-gini:0.28077\n",
      "[958]\ttrain-auc:0.69288\ttrain-gini:0.38576\tvalid-auc:0.64035\tvalid-gini:0.28071\n"
     ]
    }
   ],
   "source": [
    "xgb_model = xgb.train(params, d_train, nrounds, \n",
    "                      evals=watchlist, early_stopping_rounds=100,\n",
    "                      custom_metric=gini_xgb, maximize=True, verbose_eval=10)"
   ]
  },
  {
   "cell_type": "markdown",
   "id": "d71186e2",
   "metadata": {},
   "source": [
    "> xgb.train() 함수는 모델을 훈련하고 최적의 트리 개수를 찾는 과정을 수행\n",
    "- XGBoost 모델을 훈련하는 코드입니다. 코드 실행이 완료되면, XGBoost 모델은 주어진 하이퍼파라미터와 훈련 데이터를 기반으로 학습됩니다. \n",
    "\n",
    "- params: XGBoost 모델의 하이퍼파라미터를 설정한 딕셔너리입니다.\n",
    "- d_train: 훈련 데이터를 나타내는 DMatrix 객체입니다.\n",
    "- nrounds: 훈련할 트리의 개수입니다.\n",
    "- evals=watchlist: 훈련 및 검증 데이터의 성능을 모니터링하기 위한 목록입니다.\n",
    "- early_stopping_rounds=100: 조기 중단을 위한 설정입니다.\n",
    "- custom_metric=gini_xgb: 사용자 정의 메트릭 함수로서 모델의 성능을 평가하는데 사용됩니다.\n",
    "- maximize=True: 성능 지표를 최대화하는 방향으로 모델을 훈련합니다.\n",
    "- verbose_eval=100: 훈련 과정에서 출력을 제어하는 설정으로, 주어진 라운드마다 얼마나 자세한 정보를 출력할지 결정합니다.\n",
    "- 위 코드를 실행하면, XGBoost 모델이 훈련되며 주어진 데이터와 하이퍼파라미터에 맞게 최적의 트리 개수를 찾게 됩니다. 훈련이 끝난 후, 트리 개수에 따른 검증 데이터의 성능 변화가 출력되며, 조기 중단이나 지정된 트리 개수까지 모델이 훈련됩니다."
   ]
  },
  {
   "cell_type": "code",
   "execution_count": 29,
   "id": "a0698431",
   "metadata": {},
   "outputs": [
    {
     "data": {
      "text/plain": [
       "{'eta': 0.02,\n",
       " 'max_depth': 4,\n",
       " 'subsample': 0.9,\n",
       " 'colsample_bytree': 0.9,\n",
       " 'objective': 'binary:logistic',\n",
       " 'eval_metric': 'auc',\n",
       " 'silent': True}"
      ]
     },
     "execution_count": 29,
     "metadata": {},
     "output_type": "execute_result"
    }
   ],
   "source": [
    "params"
   ]
  },
  {
   "cell_type": "code",
   "execution_count": 30,
   "id": "a6a9175f",
   "metadata": {},
   "outputs": [],
   "source": [
    "iteration_range = (xgb_model.best_ntree_limit, xgb_model.best_ntree_limit + 50)\n",
    "sub['target'] += xgb_model.predict(xgb.DMatrix(test[features].values), \n",
    "                        iteration_range=(xgb_model.best_ntree_limit, xgb_model.best_ntree_limit + 50)) / (2*kfold)"
   ]
  },
  {
   "cell_type": "markdown",
   "id": "5bab0e4b",
   "metadata": {},
   "source": [
    "- XGBoost 모델을 사용하여 예측을 수행하고, 그 결과를 sub 데이터프레임의 'target' 열에 더하는 과정\n",
    "\n",
    "- sub['target']: 'target' 열을 가리킵니다. 이 열에 예측 결과를 누적하려고 합니다.\n",
    "\n",
    "- xgb_model.predict(...): xgb_model을 사용하여 테스트 데이터셋의 예측값을 계산합니다. xgb_model.predict 함수는 xgb.DMatrix 형식의 데이터를 입력으로 받아 모델의 예측값을 반환합니다.\n",
    "\n",
    "- xgb.DMatrix(test[features].values): 테스트 데이터의 특성들을 XGBoost 모델에 맞는 형식인 xgb.DMatrix로 변환합니다. 여기서 features는 사용하려는 특성들을 나타내는 변수입니다.\n",
    "\n",
    "- iteration_range=(xgb_model.best_ntree_limit, xgb_model.best_ntree_limit + 50): xgb_model의 best_ntree_limit 값에서 50개를 더한 범위 내에서 예측을 수행합니다. 이는 최상의 트리 개수를 기준으로 예측을 하되, 추가적으로 50개의 트리를 더 사용하여 예측합니다.\n",
    "\n",
    "- / (2*kfold): 마지막으로, 예측 값을 (2 * kfold)로 나누어 더해줍니다. 이는 교차 검증을 통해 나눈 폴드 수의 두 배로 나누는 것으로, 앙상블된 예측 값을 균등하게 보정하는 역할을 합니다.\n",
    "\n",
    "- 이 코드는 교차 검증된 XGBoost 모델의 예측 값을 앙상블하여 최종 예측 값을 생성하는 과정을 나타내고 있습니다"
   ]
  },
  {
   "cell_type": "code",
   "execution_count": 32,
   "id": "63def5e9",
   "metadata": {},
   "outputs": [
    {
     "data": {
      "text/plain": [
       "860"
      ]
     },
     "execution_count": 32,
     "metadata": {},
     "output_type": "execute_result"
    }
   ],
   "source": [
    "xgb_model.best_ntree_limit"
   ]
  },
  {
   "cell_type": "code",
   "execution_count": 33,
   "id": "817a4add",
   "metadata": {},
   "outputs": [
    {
     "data": {
      "text/html": [
       "<div>\n",
       "<style scoped>\n",
       "    .dataframe tbody tr th:only-of-type {\n",
       "        vertical-align: middle;\n",
       "    }\n",
       "\n",
       "    .dataframe tbody tr th {\n",
       "        vertical-align: top;\n",
       "    }\n",
       "\n",
       "    .dataframe thead th {\n",
       "        text-align: right;\n",
       "    }\n",
       "</style>\n",
       "<table border=\"1\" class=\"dataframe\">\n",
       "  <thead>\n",
       "    <tr style=\"text-align: right;\">\n",
       "      <th></th>\n",
       "      <th>id</th>\n",
       "      <th>target</th>\n",
       "    </tr>\n",
       "  </thead>\n",
       "  <tbody>\n",
       "    <tr>\n",
       "      <th>0</th>\n",
       "      <td>0</td>\n",
       "      <td>0.124104</td>\n",
       "    </tr>\n",
       "    <tr>\n",
       "      <th>1</th>\n",
       "      <td>1</td>\n",
       "      <td>0.125182</td>\n",
       "    </tr>\n",
       "    <tr>\n",
       "      <th>2</th>\n",
       "      <td>2</td>\n",
       "      <td>0.124917</td>\n",
       "    </tr>\n",
       "    <tr>\n",
       "      <th>3</th>\n",
       "      <td>3</td>\n",
       "      <td>0.125141</td>\n",
       "    </tr>\n",
       "    <tr>\n",
       "      <th>4</th>\n",
       "      <td>4</td>\n",
       "      <td>0.125087</td>\n",
       "    </tr>\n",
       "    <tr>\n",
       "      <th>...</th>\n",
       "      <td>...</td>\n",
       "      <td>...</td>\n",
       "    </tr>\n",
       "    <tr>\n",
       "      <th>892811</th>\n",
       "      <td>1488022</td>\n",
       "      <td>0.125753</td>\n",
       "    </tr>\n",
       "    <tr>\n",
       "      <th>892812</th>\n",
       "      <td>1488023</td>\n",
       "      <td>0.125894</td>\n",
       "    </tr>\n",
       "    <tr>\n",
       "      <th>892813</th>\n",
       "      <td>1488024</td>\n",
       "      <td>0.126633</td>\n",
       "    </tr>\n",
       "    <tr>\n",
       "      <th>892814</th>\n",
       "      <td>1488025</td>\n",
       "      <td>0.127824</td>\n",
       "    </tr>\n",
       "    <tr>\n",
       "      <th>892815</th>\n",
       "      <td>1488026</td>\n",
       "      <td>0.125579</td>\n",
       "    </tr>\n",
       "  </tbody>\n",
       "</table>\n",
       "<p>892816 rows × 2 columns</p>\n",
       "</div>"
      ],
      "text/plain": [
       "             id    target\n",
       "0             0  0.124104\n",
       "1             1  0.125182\n",
       "2             2  0.124917\n",
       "3             3  0.125141\n",
       "4             4  0.125087\n",
       "...         ...       ...\n",
       "892811  1488022  0.125753\n",
       "892812  1488023  0.125894\n",
       "892813  1488024  0.126633\n",
       "892814  1488025  0.127824\n",
       "892815  1488026  0.125579\n",
       "\n",
       "[892816 rows x 2 columns]"
      ]
     },
     "execution_count": 33,
     "metadata": {},
     "output_type": "execute_result"
    }
   ],
   "source": [
    "sub   # 여기에는 1/4 의 값이 들어가 있는 것 bcz (2*kfold)"
   ]
  },
  {
   "cell_type": "markdown",
   "id": "b4df8d94",
   "metadata": {},
   "source": [
    "- xgboost 를 2개의 폴드로 나눠서 모델 2개로 0.5를 채운것\n",
    "- lightgbm 을 2개의 폴드로 나눠서 모델 2개로 0.5를 채운것\n",
    "- 1.0 전체 submission 나오고 그걸 제출 : 이것이 Stacking 이다..."
   ]
  },
  {
   "cell_type": "code",
   "execution_count": 34,
   "id": "2a1e6fde",
   "metadata": {},
   "outputs": [
    {
     "data": {
      "text/plain": [
       "845"
      ]
     },
     "execution_count": 34,
     "metadata": {},
     "output_type": "execute_result"
    }
   ],
   "source": [
    "gc.collect()"
   ]
  },
  {
   "cell_type": "code",
   "execution_count": 35,
   "id": "cd23820a",
   "metadata": {},
   "outputs": [
    {
     "data": {
      "text/html": [
       "<div>\n",
       "<style scoped>\n",
       "    .dataframe tbody tr th:only-of-type {\n",
       "        vertical-align: middle;\n",
       "    }\n",
       "\n",
       "    .dataframe tbody tr th {\n",
       "        vertical-align: top;\n",
       "    }\n",
       "\n",
       "    .dataframe thead th {\n",
       "        text-align: right;\n",
       "    }\n",
       "</style>\n",
       "<table border=\"1\" class=\"dataframe\">\n",
       "  <thead>\n",
       "    <tr style=\"text-align: right;\">\n",
       "      <th></th>\n",
       "      <th>id</th>\n",
       "      <th>target</th>\n",
       "    </tr>\n",
       "  </thead>\n",
       "  <tbody>\n",
       "    <tr>\n",
       "      <th>0</th>\n",
       "      <td>0</td>\n",
       "      <td>0.124104</td>\n",
       "    </tr>\n",
       "    <tr>\n",
       "      <th>1</th>\n",
       "      <td>1</td>\n",
       "      <td>0.125182</td>\n",
       "    </tr>\n",
       "  </tbody>\n",
       "</table>\n",
       "</div>"
      ],
      "text/plain": [
       "   id    target\n",
       "0   0  0.124104\n",
       "1   1  0.125182"
      ]
     },
     "execution_count": 35,
     "metadata": {},
     "output_type": "execute_result"
    }
   ],
   "source": [
    "sub.head(2)"
   ]
  },
  {
   "cell_type": "code",
   "execution_count": 43,
   "id": "cbd599b1",
   "metadata": {},
   "outputs": [],
   "source": [
    "# lgb\n",
    "params = {'metric': 'auc', 'learning_rate' : 0.01,\n",
    "          'max_depth':10, 'max_bin':10,  'objective': 'binary', \n",
    "          'feature_fraction': 0.8,'bagging_fraction':0.9,\n",
    "          'bagging_freq':10,  'min_data': 500}"
   ]
  },
  {
   "cell_type": "code",
   "execution_count": 44,
   "id": "7ca5b9d2",
   "metadata": {},
   "outputs": [],
   "source": [
    "skf = StratifiedKFold(n_splits=kfold, shuffle= True, random_state=1)"
   ]
  },
  {
   "cell_type": "code",
   "execution_count": 45,
   "id": "43042450",
   "metadata": {},
   "outputs": [],
   "source": [
    "for i, (train_index, test_index) in enumerate(skf.split(X, y)):\n",
    "    break"
   ]
  },
  {
   "cell_type": "code",
   "execution_count": 46,
   "id": "4041b287",
   "metadata": {},
   "outputs": [],
   "source": [
    "X_train, X_eval = X[train_index], X[test_index]\n",
    "y_train, y_eval = y[train_index], y[test_index]"
   ]
  },
  {
   "cell_type": "code",
   "execution_count": 54,
   "id": "6c9d728a",
   "metadata": {},
   "outputs": [
    {
     "name": "stdout",
     "output_type": "stream",
     "text": [
      "[LightGBM] [Warning] Accuracy may be bad since you didn't explicitly set num_leaves OR 2^max_depth > num_leaves. (num_leaves=31).\n",
      "[LightGBM] [Warning] Accuracy may be bad since you didn't explicitly set num_leaves OR 2^max_depth > num_leaves. (num_leaves=31).\n",
      "[LightGBM] [Info] Number of positive: 10847, number of negative: 286759\n",
      "[LightGBM] [Warning] Auto-choosing row-wise multi-threading, the overhead of testing was 0.021904 seconds.\n",
      "You can set `force_row_wise=true` to remove the overhead.\n",
      "And if memory is not enough, you can set `force_col_wise=true`.\n",
      "[LightGBM] [Info] Total Bins 200\n",
      "[LightGBM] [Info] Number of data points in the train set: 297606, number of used features: 34\n",
      "[LightGBM] [Warning] Accuracy may be bad since you didn't explicitly set num_leaves OR 2^max_depth > num_leaves. (num_leaves=31).\n",
      "[LightGBM] [Info] [binary:BoostFromScore]: pavg=0.036448 -> initscore=-3.274754\n",
      "[LightGBM] [Info] Start training from score -3.274754\n"
     ]
    },
    {
     "ename": "KeyboardInterrupt",
     "evalue": "",
     "output_type": "error",
     "traceback": [
      "\u001b[1;31m---------------------------------------------------------------------------\u001b[0m",
      "\u001b[1;31mKeyboardInterrupt\u001b[0m                         Traceback (most recent call last)",
      "Cell \u001b[1;32mIn[54], line 1\u001b[0m\n\u001b[1;32m----> 1\u001b[0m lgb_model \u001b[38;5;241m=\u001b[39m lgb\u001b[38;5;241m.\u001b[39mtrain(params, lgb\u001b[38;5;241m.\u001b[39mDataset(X_train, label\u001b[38;5;241m=\u001b[39my_train), nrounds, \n\u001b[0;32m      2\u001b[0m                   lgb\u001b[38;5;241m.\u001b[39mDataset(X_eval, label\u001b[38;5;241m=\u001b[39my_eval),\n\u001b[0;32m      3\u001b[0m                   feval\u001b[38;5;241m=\u001b[39mgini_lgb)\n",
      "File \u001b[1;32m~\\anaconda3\\Lib\\site-packages\\lightgbm\\engine.py:273\u001b[0m, in \u001b[0;36mtrain\u001b[1;34m(params, train_set, num_boost_round, valid_sets, valid_names, feval, init_model, feature_name, categorical_feature, keep_training_booster, callbacks)\u001b[0m\n\u001b[0;32m    271\u001b[0m     \u001b[38;5;28;01mif\u001b[39;00m is_valid_contain_train:\n\u001b[0;32m    272\u001b[0m         evaluation_result_list\u001b[38;5;241m.\u001b[39mextend(booster\u001b[38;5;241m.\u001b[39meval_train(feval))\n\u001b[1;32m--> 273\u001b[0m     evaluation_result_list\u001b[38;5;241m.\u001b[39mextend(booster\u001b[38;5;241m.\u001b[39meval_valid(feval))\n\u001b[0;32m    274\u001b[0m \u001b[38;5;28;01mtry\u001b[39;00m:\n\u001b[0;32m    275\u001b[0m     \u001b[38;5;28;01mfor\u001b[39;00m cb \u001b[38;5;129;01min\u001b[39;00m callbacks_after_iter:\n",
      "File \u001b[1;32m~\\anaconda3\\Lib\\site-packages\\lightgbm\\basic.py:3825\u001b[0m, in \u001b[0;36mBooster.eval_valid\u001b[1;34m(self, feval)\u001b[0m\n\u001b[0;32m   3793\u001b[0m \u001b[38;5;28;01mdef\u001b[39;00m \u001b[38;5;21meval_valid\u001b[39m(\n\u001b[0;32m   3794\u001b[0m     \u001b[38;5;28mself\u001b[39m,\n\u001b[0;32m   3795\u001b[0m     feval: Optional[Union[_LGBM_CustomEvalFunction, List[_LGBM_CustomEvalFunction]]] \u001b[38;5;241m=\u001b[39m \u001b[38;5;28;01mNone\u001b[39;00m\n\u001b[0;32m   3796\u001b[0m ) \u001b[38;5;241m-\u001b[39m\u001b[38;5;241m>\u001b[39m List[_LGBM_BoosterEvalMethodResultType]:\n\u001b[0;32m   3797\u001b[0m \u001b[38;5;250m    \u001b[39m\u001b[38;5;124;03m\"\"\"Evaluate for validation data.\u001b[39;00m\n\u001b[0;32m   3798\u001b[0m \n\u001b[0;32m   3799\u001b[0m \u001b[38;5;124;03m    Parameters\u001b[39;00m\n\u001b[1;32m   (...)\u001b[0m\n\u001b[0;32m   3823\u001b[0m \u001b[38;5;124;03m        List with (validation_dataset_name, eval_name, eval_result, is_higher_better) tuples.\u001b[39;00m\n\u001b[0;32m   3824\u001b[0m \u001b[38;5;124;03m    \"\"\"\u001b[39;00m\n\u001b[1;32m-> 3825\u001b[0m     \u001b[38;5;28;01mreturn\u001b[39;00m [item \u001b[38;5;28;01mfor\u001b[39;00m i \u001b[38;5;129;01min\u001b[39;00m \u001b[38;5;28mrange\u001b[39m(\u001b[38;5;241m1\u001b[39m, \u001b[38;5;28mself\u001b[39m\u001b[38;5;241m.\u001b[39m__num_dataset)\n\u001b[0;32m   3826\u001b[0m             \u001b[38;5;28;01mfor\u001b[39;00m item \u001b[38;5;129;01min\u001b[39;00m \u001b[38;5;28mself\u001b[39m\u001b[38;5;241m.\u001b[39m__inner_eval(\u001b[38;5;28mself\u001b[39m\u001b[38;5;241m.\u001b[39mname_valid_sets[i \u001b[38;5;241m-\u001b[39m \u001b[38;5;241m1\u001b[39m], i, feval)]\n",
      "File \u001b[1;32m~\\anaconda3\\Lib\\site-packages\\lightgbm\\basic.py:3826\u001b[0m, in \u001b[0;36m<listcomp>\u001b[1;34m(.0)\u001b[0m\n\u001b[0;32m   3793\u001b[0m \u001b[38;5;28;01mdef\u001b[39;00m \u001b[38;5;21meval_valid\u001b[39m(\n\u001b[0;32m   3794\u001b[0m     \u001b[38;5;28mself\u001b[39m,\n\u001b[0;32m   3795\u001b[0m     feval: Optional[Union[_LGBM_CustomEvalFunction, List[_LGBM_CustomEvalFunction]]] \u001b[38;5;241m=\u001b[39m \u001b[38;5;28;01mNone\u001b[39;00m\n\u001b[0;32m   3796\u001b[0m ) \u001b[38;5;241m-\u001b[39m\u001b[38;5;241m>\u001b[39m List[_LGBM_BoosterEvalMethodResultType]:\n\u001b[0;32m   3797\u001b[0m \u001b[38;5;250m    \u001b[39m\u001b[38;5;124;03m\"\"\"Evaluate for validation data.\u001b[39;00m\n\u001b[0;32m   3798\u001b[0m \n\u001b[0;32m   3799\u001b[0m \u001b[38;5;124;03m    Parameters\u001b[39;00m\n\u001b[1;32m   (...)\u001b[0m\n\u001b[0;32m   3823\u001b[0m \u001b[38;5;124;03m        List with (validation_dataset_name, eval_name, eval_result, is_higher_better) tuples.\u001b[39;00m\n\u001b[0;32m   3824\u001b[0m \u001b[38;5;124;03m    \"\"\"\u001b[39;00m\n\u001b[0;32m   3825\u001b[0m     \u001b[38;5;28;01mreturn\u001b[39;00m [item \u001b[38;5;28;01mfor\u001b[39;00m i \u001b[38;5;129;01min\u001b[39;00m \u001b[38;5;28mrange\u001b[39m(\u001b[38;5;241m1\u001b[39m, \u001b[38;5;28mself\u001b[39m\u001b[38;5;241m.\u001b[39m__num_dataset)\n\u001b[1;32m-> 3826\u001b[0m             \u001b[38;5;28;01mfor\u001b[39;00m item \u001b[38;5;129;01min\u001b[39;00m \u001b[38;5;28mself\u001b[39m\u001b[38;5;241m.\u001b[39m__inner_eval(\u001b[38;5;28mself\u001b[39m\u001b[38;5;241m.\u001b[39mname_valid_sets[i \u001b[38;5;241m-\u001b[39m \u001b[38;5;241m1\u001b[39m], i, feval)]\n",
      "File \u001b[1;32m~\\anaconda3\\Lib\\site-packages\\lightgbm\\basic.py:4536\u001b[0m, in \u001b[0;36mBooster.__inner_eval\u001b[1;34m(self, data_name, data_idx, feval)\u001b[0m\n\u001b[0;32m   4534\u001b[0m \u001b[38;5;28;01mif\u001b[39;00m eval_function \u001b[38;5;129;01mis\u001b[39;00m \u001b[38;5;28;01mNone\u001b[39;00m:\n\u001b[0;32m   4535\u001b[0m     \u001b[38;5;28;01mcontinue\u001b[39;00m\n\u001b[1;32m-> 4536\u001b[0m feval_ret \u001b[38;5;241m=\u001b[39m eval_function(\u001b[38;5;28mself\u001b[39m\u001b[38;5;241m.\u001b[39m__inner_predict(data_idx), cur_data)\n\u001b[0;32m   4537\u001b[0m \u001b[38;5;28;01mif\u001b[39;00m \u001b[38;5;28misinstance\u001b[39m(feval_ret, \u001b[38;5;28mlist\u001b[39m):\n\u001b[0;32m   4538\u001b[0m     \u001b[38;5;28;01mfor\u001b[39;00m eval_name, val, is_higher_better \u001b[38;5;129;01min\u001b[39;00m feval_ret:\n",
      "Cell \u001b[1;32mIn[2], line 16\u001b[0m, in \u001b[0;36mgini_lgb\u001b[1;34m(preds, dtrain)\u001b[0m\n\u001b[0;32m     14\u001b[0m \u001b[38;5;28;01mdef\u001b[39;00m \u001b[38;5;21mgini_lgb\u001b[39m(preds, dtrain):\n\u001b[0;32m     15\u001b[0m     y \u001b[38;5;241m=\u001b[39m \u001b[38;5;28mlist\u001b[39m(dtrain\u001b[38;5;241m.\u001b[39mget_label())\n\u001b[1;32m---> 16\u001b[0m     score \u001b[38;5;241m=\u001b[39m gini(y, preds) \u001b[38;5;241m/\u001b[39m gini(y, y)\n\u001b[0;32m     17\u001b[0m     \u001b[38;5;28;01mreturn\u001b[39;00m \u001b[38;5;124m'\u001b[39m\u001b[38;5;124mgini\u001b[39m\u001b[38;5;124m'\u001b[39m, score, \u001b[38;5;28;01mTrue\u001b[39;00m\n",
      "Cell \u001b[1;32mIn[2], line 5\u001b[0m, in \u001b[0;36mgini\u001b[1;34m(y, pred)\u001b[0m\n\u001b[0;32m      3\u001b[0m \u001b[38;5;28;01mdef\u001b[39;00m \u001b[38;5;21mgini\u001b[39m(y, pred):\n\u001b[0;32m      4\u001b[0m     g \u001b[38;5;241m=\u001b[39m np\u001b[38;5;241m.\u001b[39masarray(np\u001b[38;5;241m.\u001b[39mc_[y, pred, np\u001b[38;5;241m.\u001b[39marange(\u001b[38;5;28mlen\u001b[39m(y)) ], dtype\u001b[38;5;241m=\u001b[39m\u001b[38;5;28mfloat\u001b[39m)\n\u001b[1;32m----> 5\u001b[0m     g \u001b[38;5;241m=\u001b[39m g[np\u001b[38;5;241m.\u001b[39mlexsort((g[:,\u001b[38;5;241m2\u001b[39m], \u001b[38;5;241m-\u001b[39m\u001b[38;5;241m1\u001b[39m\u001b[38;5;241m*\u001b[39mg[:,\u001b[38;5;241m1\u001b[39m]))]\n\u001b[0;32m      6\u001b[0m     gs \u001b[38;5;241m=\u001b[39m g[:,\u001b[38;5;241m0\u001b[39m]\u001b[38;5;241m.\u001b[39mcumsum()\u001b[38;5;241m.\u001b[39msum() \u001b[38;5;241m/\u001b[39m g[:,\u001b[38;5;241m0\u001b[39m]\u001b[38;5;241m.\u001b[39msum()\n\u001b[0;32m      7\u001b[0m     gs \u001b[38;5;241m-\u001b[39m\u001b[38;5;241m=\u001b[39m (\u001b[38;5;28mlen\u001b[39m(y) \u001b[38;5;241m+\u001b[39m \u001b[38;5;241m1\u001b[39m) \u001b[38;5;241m/\u001b[39m \u001b[38;5;241m2.\u001b[39m\n",
      "File \u001b[1;32m<__array_function__ internals>:200\u001b[0m, in \u001b[0;36mlexsort\u001b[1;34m(*args, **kwargs)\u001b[0m\n",
      "\u001b[1;31mKeyboardInterrupt\u001b[0m: "
     ]
    }
   ],
   "source": [
    "lgb_model = lgb.train(params, lgb.Dataset(X_train, label=y_train), nrounds, \n",
    "                  lgb.Dataset(X_eval, label=y_eval), verbose_eval=True, \n",
    "                  feval=gini_lgb, early_stopping_rounds=100)"
   ]
  },
  {
   "cell_type": "code",
   "execution_count": null,
   "id": "584623a1",
   "metadata": {},
   "outputs": [],
   "source": []
  },
  {
   "cell_type": "code",
   "execution_count": null,
   "id": "8562b596",
   "metadata": {},
   "outputs": [],
   "source": []
  },
  {
   "cell_type": "code",
   "execution_count": null,
   "id": "7ff829e0",
   "metadata": {},
   "outputs": [],
   "source": []
  },
  {
   "cell_type": "code",
   "execution_count": null,
   "id": "a9288eb3",
   "metadata": {},
   "outputs": [],
   "source": []
  },
  {
   "cell_type": "code",
   "execution_count": null,
   "id": "cade91a3",
   "metadata": {},
   "outputs": [],
   "source": []
  },
  {
   "cell_type": "code",
   "execution_count": null,
   "id": "a4b74c75",
   "metadata": {},
   "outputs": [],
   "source": []
  }
 ],
 "metadata": {
  "kernelspec": {
   "display_name": "Python 3 (ipykernel)",
   "language": "python",
   "name": "python3"
  },
  "language_info": {
   "codemirror_mode": {
    "name": "ipython",
    "version": 3
   },
   "file_extension": ".py",
   "mimetype": "text/x-python",
   "name": "python",
   "nbconvert_exporter": "python",
   "pygments_lexer": "ipython3",
   "version": "3.11.3"
  }
 },
 "nbformat": 4,
 "nbformat_minor": 5
}
